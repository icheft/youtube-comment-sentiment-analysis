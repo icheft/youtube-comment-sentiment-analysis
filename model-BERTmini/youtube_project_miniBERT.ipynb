{
 "cells": [
  {
   "cell_type": "markdown",
   "metadata": {},
   "source": [
    "## Loading the IMBD movie review dataset as the training dataset"
   ]
  },
  {
   "cell_type": "code",
   "execution_count": 3,
   "metadata": {
    "colab": {
     "base_uri": "https://localhost:8080/"
    },
    "id": "duzqQ8jb0INy",
    "outputId": "4fd1fe1f-8ada-4234-cac1-e1a2833a1c67"
   },
   "outputs": [
    {
     "name": "stdout",
     "output_type": "stream",
     "text": [
      "Requirement already satisfied: tensorflow in c:\\users\\user\\anaconda3\\lib\\site-packages (2.7.0)\n",
      "Requirement already satisfied: tensorflow-estimator<2.8,~=2.7.0rc0 in c:\\users\\user\\anaconda3\\lib\\site-packages (from tensorflow) (2.7.0)\n",
      "Requirement already satisfied: tensorboard~=2.6 in c:\\users\\user\\anaconda3\\lib\\site-packages (from tensorflow) (2.7.0)\n",
      "Requirement already satisfied: grpcio<2.0,>=1.24.3 in c:\\users\\user\\anaconda3\\lib\\site-packages (from tensorflow) (1.43.0)\n",
      "Requirement already satisfied: gast<0.5.0,>=0.2.1 in c:\\users\\user\\anaconda3\\lib\\site-packages (from tensorflow) (0.4.0)\n",
      "Requirement already satisfied: h5py>=2.9.0 in c:\\users\\user\\anaconda3\\lib\\site-packages (from tensorflow) (2.10.0)\n",
      "Requirement already satisfied: google-pasta>=0.1.1 in c:\\users\\user\\anaconda3\\lib\\site-packages (from tensorflow) (0.2.0)\n",
      "Requirement already satisfied: typing-extensions>=3.6.6 in c:\\users\\user\\anaconda3\\lib\\site-packages (from tensorflow) (3.7.4.2)\n",
      "Requirement already satisfied: opt-einsum>=2.3.2 in c:\\users\\user\\anaconda3\\lib\\site-packages (from tensorflow) (3.3.0)\n",
      "Requirement already satisfied: six>=1.12.0 in c:\\users\\user\\anaconda3\\lib\\site-packages (from tensorflow) (1.15.0)\n",
      "Requirement already satisfied: termcolor>=1.1.0 in c:\\users\\user\\anaconda3\\lib\\site-packages (from tensorflow) (1.1.0)\n",
      "Requirement already satisfied: libclang>=9.0.1 in c:\\users\\user\\anaconda3\\lib\\site-packages (from tensorflow) (12.0.0)\n",
      "Requirement already satisfied: keras<2.8,>=2.7.0rc0 in c:\\users\\user\\anaconda3\\lib\\site-packages (from tensorflow) (2.7.0)\n",
      "Requirement already satisfied: tensorflow-io-gcs-filesystem>=0.21.0 in c:\\users\\user\\anaconda3\\lib\\site-packages (from tensorflow) (0.23.1)\n",
      "Requirement already satisfied: wheel<1.0,>=0.32.0 in c:\\users\\user\\anaconda3\\lib\\site-packages (from tensorflow) (0.34.2)\n",
      "Requirement already satisfied: protobuf>=3.9.2 in c:\\users\\user\\anaconda3\\lib\\site-packages (from tensorflow) (3.19.1)\n",
      "Requirement already satisfied: numpy>=1.14.5 in c:\\users\\user\\anaconda3\\lib\\site-packages (from tensorflow) (1.18.5)\n",
      "Requirement already satisfied: keras-preprocessing>=1.1.1 in c:\\users\\user\\anaconda3\\lib\\site-packages (from tensorflow) (1.1.2)\n",
      "Requirement already satisfied: wrapt>=1.11.0 in c:\\users\\user\\anaconda3\\lib\\site-packages (from tensorflow) (1.11.2)\n",
      "Requirement already satisfied: flatbuffers<3.0,>=1.12 in c:\\users\\user\\anaconda3\\lib\\site-packages (from tensorflow) (2.0)\n",
      "Requirement already satisfied: absl-py>=0.4.0 in c:\\users\\user\\anaconda3\\lib\\site-packages (from tensorflow) (1.0.0)\n",
      "Requirement already satisfied: astunparse>=1.6.0 in c:\\users\\user\\anaconda3\\lib\\site-packages (from tensorflow) (1.6.3)\n",
      "Requirement already satisfied: requests<3,>=2.21.0 in c:\\users\\user\\anaconda3\\lib\\site-packages (from tensorboard~=2.6->tensorflow) (2.24.0)\n",
      "Requirement already satisfied: tensorboard-plugin-wit>=1.6.0 in c:\\users\\user\\anaconda3\\lib\\site-packages (from tensorboard~=2.6->tensorflow) (1.8.0)\n",
      "Requirement already satisfied: google-auth<3,>=1.6.3 in c:\\users\\user\\anaconda3\\lib\\site-packages (from tensorboard~=2.6->tensorflow) (2.3.3)\n",
      "Requirement already satisfied: werkzeug>=0.11.15 in c:\\users\\user\\anaconda3\\lib\\site-packages (from tensorboard~=2.6->tensorflow) (1.0.1)\n",
      "Requirement already satisfied: google-auth-oauthlib<0.5,>=0.4.1 in c:\\users\\user\\anaconda3\\lib\\site-packages (from tensorboard~=2.6->tensorflow) (0.4.6)\n",
      "Requirement already satisfied: markdown>=2.6.8 in c:\\users\\user\\anaconda3\\lib\\site-packages (from tensorboard~=2.6->tensorflow) (3.3.6)\n",
      "Requirement already satisfied: tensorboard-data-server<0.7.0,>=0.6.0 in c:\\users\\user\\anaconda3\\lib\\site-packages (from tensorboard~=2.6->tensorflow) (0.6.1)\n",
      "Requirement already satisfied: setuptools>=41.0.0 in c:\\users\\user\\anaconda3\\lib\\site-packages (from tensorboard~=2.6->tensorflow) (49.2.0.post20200714)\n",
      "Requirement already satisfied: certifi>=2017.4.17 in c:\\users\\user\\anaconda3\\lib\\site-packages (from requests<3,>=2.21.0->tensorboard~=2.6->tensorflow) (2020.6.20)\n",
      "Requirement already satisfied: urllib3!=1.25.0,!=1.25.1,<1.26,>=1.21.1 in c:\\users\\user\\anaconda3\\lib\\site-packages (from requests<3,>=2.21.0->tensorboard~=2.6->tensorflow) (1.25.9)\n",
      "Requirement already satisfied: chardet<4,>=3.0.2 in c:\\users\\user\\anaconda3\\lib\\site-packages (from requests<3,>=2.21.0->tensorboard~=2.6->tensorflow) (3.0.4)\n",
      "Requirement already satisfied: idna<3,>=2.5 in c:\\users\\user\\anaconda3\\lib\\site-packages (from requests<3,>=2.21.0->tensorboard~=2.6->tensorflow) (2.10)\n",
      "Requirement already satisfied: cachetools<5.0,>=2.0.0 in c:\\users\\user\\anaconda3\\lib\\site-packages (from google-auth<3,>=1.6.3->tensorboard~=2.6->tensorflow) (4.2.4)\n",
      "Requirement already satisfied: rsa<5,>=3.1.4; python_version >= \"3.6\" in c:\\users\\user\\anaconda3\\lib\\site-packages (from google-auth<3,>=1.6.3->tensorboard~=2.6->tensorflow) (4.8)\n",
      "Requirement already satisfied: pyasn1-modules>=0.2.1 in c:\\users\\user\\anaconda3\\lib\\site-packages (from google-auth<3,>=1.6.3->tensorboard~=2.6->tensorflow) (0.2.8)\n",
      "Requirement already satisfied: requests-oauthlib>=0.7.0 in c:\\users\\user\\anaconda3\\lib\\site-packages (from google-auth-oauthlib<0.5,>=0.4.1->tensorboard~=2.6->tensorflow) (1.3.0)\n",
      "Requirement already satisfied: importlib-metadata>=4.4; python_version < \"3.10\" in c:\\users\\user\\anaconda3\\lib\\site-packages (from markdown>=2.6.8->tensorboard~=2.6->tensorflow) (4.10.0)\n",
      "Requirement already satisfied: pyasn1>=0.1.3 in c:\\users\\user\\anaconda3\\lib\\site-packages (from rsa<5,>=3.1.4; python_version >= \"3.6\"->google-auth<3,>=1.6.3->tensorboard~=2.6->tensorflow) (0.4.8)\n",
      "Requirement already satisfied: oauthlib>=3.0.0 in c:\\users\\user\\anaconda3\\lib\\site-packages (from requests-oauthlib>=0.7.0->google-auth-oauthlib<0.5,>=0.4.1->tensorboard~=2.6->tensorflow) (3.1.1)\n",
      "Requirement already satisfied: zipp>=0.5 in c:\\users\\user\\anaconda3\\lib\\site-packages (from importlib-metadata>=4.4; python_version < \"3.10\"->markdown>=2.6.8->tensorboard~=2.6->tensorflow) (3.1.0)\n",
      "Requirement already satisfied: keras_bert in c:\\users\\user\\anaconda3\\lib\\site-packages (0.88.0)\n",
      "Requirement already satisfied: numpy in c:\\users\\user\\anaconda3\\lib\\site-packages (from keras_bert) (1.18.5)\n",
      "Requirement already satisfied: keras-transformer>=0.39.0 in c:\\users\\user\\anaconda3\\lib\\site-packages (from keras_bert) (0.39.0)\n",
      "Requirement already satisfied: Keras>=2.4.3 in c:\\users\\user\\anaconda3\\lib\\site-packages (from keras_bert) (2.7.0)\n",
      "Requirement already satisfied: keras-multi-head>=0.28.0 in c:\\users\\user\\anaconda3\\lib\\site-packages (from keras-transformer>=0.39.0->keras_bert) (0.28.0)\n",
      "Requirement already satisfied: keras-embed-sim>=0.9.0 in c:\\users\\user\\anaconda3\\lib\\site-packages (from keras-transformer>=0.39.0->keras_bert) (0.9.0)\n",
      "Requirement already satisfied: keras-position-wise-feed-forward>=0.7.0 in c:\\users\\user\\anaconda3\\lib\\site-packages (from keras-transformer>=0.39.0->keras_bert) (0.7.0)\n",
      "Requirement already satisfied: keras-layer-normalization>=0.15.0 in c:\\users\\user\\anaconda3\\lib\\site-packages (from keras-transformer>=0.39.0->keras_bert) (0.15.0)\n",
      "Requirement already satisfied: keras-pos-embd>=0.12.0 in c:\\users\\user\\anaconda3\\lib\\site-packages (from keras-transformer>=0.39.0->keras_bert) (0.12.0)\n",
      "Requirement already satisfied: keras-self-attention>=0.50.0 in c:\\users\\user\\anaconda3\\lib\\site-packages (from keras-multi-head>=0.28.0->keras-transformer>=0.39.0->keras_bert) (0.50.0)\n"
     ]
    }
   ],
   "source": [
    "!pip install tensorflow\n",
    "!pip install keras_bert"
   ]
  },
  {
   "cell_type": "code",
   "execution_count": 1,
   "metadata": {
    "id": "Q8LrGuWo6Jhs"
   },
   "outputs": [],
   "source": [
    "import pandas as pd\n",
    "import numpy as np\n",
    "import csv\n",
    "import numpy as np\n",
    "pretrained_path = './BERT-mini'"
   ]
  },
  {
   "cell_type": "code",
   "execution_count": 2,
   "metadata": {
    "id": "DUJQEUKI6Nnq"
   },
   "outputs": [],
   "source": [
    "from keras_bert import extract_embeddings"
   ]
  },
  {
   "cell_type": "markdown",
   "metadata": {
    "id": "me8eZQIJlJOJ"
   },
   "source": [
    "## Load Training Dataset\n",
    "### Transform into embeddings "
   ]
  },
  {
   "cell_type": "code",
   "execution_count": 30,
   "metadata": {
    "id": "1w1BgAM22Rqc"
   },
   "outputs": [],
   "source": [
    "# Trainpath = 'drive/MyDrive/Sentiment/project/IMDB_Dataset.xlsx'\n",
    "\n",
    "# df_dataset = pd.read_excel(Trainpath)\n",
    "# train_data = df_dataset['review'][:10000]\n",
    "# train_label = df_dataset['sentiment'][:10000]\n",
    "# for i in range(10000):\n",
    "#     train_label[i] = 1 if train_label[i] == \"positive\" else -1"
   ]
  },
  {
   "cell_type": "code",
   "execution_count": 31,
   "metadata": {
    "id": "sVRXERxWI-lz"
   },
   "outputs": [],
   "source": [
    "# y_train = []\n",
    "# x_train = []\n",
    "# embeddings = extract_embeddings(pretrained_path, train_data)\n",
    "# for index in range(10000):\n",
    "#     x_train.append(embeddings[index][0]) \n",
    "#     y_train.append(train_label[index])\n",
    "\n",
    "# nowfile = open('drive/MyDrive/Sentiment/project/miniData.txt', 'w')\n",
    "# for i in range(10000):\n",
    "#     nowfile.write(str(y_train[i]))\n",
    "#     for j in range(len(x_train[i])):\n",
    "#         nowfile.write(' ' + str(x_train[i][j]))\n",
    "#     nowfile.write('\\n')\n",
    "# nowfile.close()"
   ]
  },
  {
   "cell_type": "markdown",
   "metadata": {},
   "source": [
    "### Loading Embeddings\n",
    "Have been saved to the miniData.txt"
   ]
  },
  {
   "cell_type": "code",
   "execution_count": 4,
   "metadata": {
    "id": "9-IlnoLkluY3"
   },
   "outputs": [],
   "source": [
    "def read_input_data(path):\n",
    "    x = []\n",
    "    y = []\n",
    "    for line in open(path).readlines():\n",
    "        items = line.strip().split(' ')\n",
    "        tempX = []\n",
    "        for i in range(1, len(items)): tempX.append(float(items[i]))\n",
    "        x.append(tempX)\n",
    "        y.append(float(items[0]))\n",
    "    return np.array(x), np.array(y)"
   ]
  },
  {
   "cell_type": "code",
   "execution_count": 6,
   "metadata": {
    "colab": {
     "base_uri": "https://localhost:8080/"
    },
    "id": "4tFjx-PFlwup",
    "outputId": "e20bcfe0-22b5-4e44-8a63-9f77d5943bde"
   },
   "outputs": [
    {
     "name": "stdout",
     "output_type": "stream",
     "text": [
      "(10000, 256)\n",
      "[ 1.  1.  1. ... -1. -1.  1.]\n"
     ]
    }
   ],
   "source": [
    "#training set embeddings\n",
    "TrainingPath = \"./miniData.txt\"\n",
    "x_train, y_train = read_input_data(TrainingPath)\n",
    "print(x_train.shape)\n",
    "print(y_train)"
   ]
  },
  {
   "cell_type": "markdown",
   "metadata": {},
   "source": [
    "### Done the training process on colab"
   ]
  },
  {
   "cell_type": "code",
   "execution_count": 36,
   "metadata": {
    "colab": {
     "base_uri": "https://localhost:8080/"
    },
    "id": "Wf09vdJZlxzS",
    "outputId": "bc2a489c-d3cd-416b-9c2b-792ce5d28e76"
   },
   "outputs": [
    {
     "name": "stdout",
     "output_type": "stream",
     "text": [
      "Best score for training data: 0.7968000000000001 \n",
      "\n",
      "Best C: 302.6763085558697 \n",
      "\n",
      "Best Kernel: rbf \n",
      "\n",
      "Best Gamma: 0.0007698579387315076 \n",
      "\n"
     ]
    }
   ],
   "source": [
    "from sklearn.svm import SVC\n",
    "from sklearn.model_selection import GridSearchCV, RandomizedSearchCV\n",
    "from sklearn.utils.fixes import loguniform\n",
    "\n",
    "param_dist = {'C': loguniform(1e-2, 1e3),\n",
    " 'gamma': loguniform(1e-4, 1e-3),\n",
    " 'kernel': ['rbf'],\n",
    " 'class_weight':['balanced', None]}\n",
    "\n",
    "n_iter_search = 10\n",
    "\n",
    "first_model = RandomizedSearchCV(SVC(), param_distributions=param_dist, n_iter=n_iter_search)\n",
    "first_model.fit(x_train,y_train)\n",
    "print('Best score for training data:', first_model.best_score_,\"\\n\") \n",
    "\n",
    "# View the best parameters for the model found using grid search\n",
    "print('Best C:',first_model.best_estimator_.C,\"\\n\") \n",
    "print('Best Kernel:',first_model.best_estimator_.kernel,\"\\n\")\n",
    "print('Best Gamma:',first_model.best_estimator_.gamma,\"\\n\")"
   ]
  },
  {
   "cell_type": "code",
   "execution_count": 37,
   "metadata": {
    "colab": {
     "base_uri": "https://localhost:8080/"
    },
    "id": "42MvT3TWmDfY",
    "outputId": "055b0181-6985-4512-e4a7-5ec7d45f61d4"
   },
   "outputs": [
    {
     "data": {
      "text/plain": [
       "['drive/MyDrive/Sentiment/project/BERTModel-mini']"
      ]
     },
     "execution_count": 37,
     "metadata": {},
     "output_type": "execute_result"
    }
   ],
   "source": [
    "import joblib\n",
    "# choose first_model\n",
    "joblib.dump(first_model, 'drive/MyDrive/Sentiment/project/BERTModel-mini')"
   ]
  },
  {
   "cell_type": "code",
   "execution_count": 38,
   "metadata": {
    "id": "2erFUpUN9eip"
   },
   "outputs": [],
   "source": [
    "task_model = joblib.load('drive/MyDrive/Sentiment/project//BERTModel-mini')"
   ]
  },
  {
   "cell_type": "markdown",
   "metadata": {},
   "source": [
    "## Using the model to predict YouTube review"
   ]
  },
  {
   "cell_type": "code",
   "execution_count": 7,
   "metadata": {},
   "outputs": [],
   "source": [
    "import pandas as pd\n",
    "import numpy as np\n",
    "import sys\n",
    "sys.path.append(\"..\")\n",
    "import yt_helper"
   ]
  },
  {
   "cell_type": "code",
   "execution_count": 10,
   "metadata": {},
   "outputs": [
    {
     "name": "stdout",
     "output_type": "stream",
     "text": [
      "Collecting dill\n",
      "  Downloading dill-0.3.4-py2.py3-none-any.whl (86 kB)\n",
      "Installing collected packages: dill\n",
      "Successfully installed dill-0.3.4\n"
     ]
    }
   ],
   "source": [
    "!pip install dill"
   ]
  },
  {
   "cell_type": "code",
   "execution_count": 11,
   "metadata": {},
   "outputs": [
    {
     "name": "stderr",
     "output_type": "stream",
     "text": [
      "C:\\Users\\USER\\anaconda3\\lib\\site-packages\\sklearn\\base.py:329: UserWarning: Trying to unpickle estimator RandomizedSearchCV from version 1.0.2 when using version 0.23.1. This might lead to breaking code or invalid results. Use at your own risk.\n",
      "  warnings.warn(\n"
     ]
    }
   ],
   "source": [
    "import joblib\n",
    "task_model = joblib.load('./BERTModel-mini')"
   ]
  },
  {
   "cell_type": "code",
   "execution_count": 12,
   "metadata": {},
   "outputs": [],
   "source": [
    "def yt_comment_preprocess(df, limit):\n",
    "    processed_dataset = yt_helper.comment.preprocessing(df=df, emoji_to_word=True) \n",
    "    test_data = processed_dataset['regular_text']\n",
    "    \n",
    "    embeddings_test = extract_embeddings(pretrained_path, test_data)\n",
    "    x_test = []\n",
    "    for i in range(limit):\n",
    "        x_test.append(embeddings_test[i][0])\n",
    "        \n",
    "    return x_test"
   ]
  },
  {
   "cell_type": "code",
   "execution_count": 13,
   "metadata": {},
   "outputs": [],
   "source": [
    "def predict_result(youtubeID):\n",
    "    SORT_BY_POPULAR = 1\n",
    "    SORT_BY_RECENT = 0\n",
    "\n",
    "    limit = 200 # set to None to download all comments\n",
    "    sort = SORT_BY_POPULAR\n",
    "    output = None  # do not write out files\n",
    "\n",
    "    df = yt_helper.comment.fetch(youtubeID=youtubeID, limit=limit,\n",
    "                                                language='en', sort=sort, output=output)\n",
    "\n",
    "    x_test = yt_comment_preprocess(df, limit)\n",
    "    y_pred = task_model.predict(x_test)\n",
    "    positive_rate = (y_pred >= 0.5).sum() / y_pred.shape[0]\n",
    "    nagative_rate = (y_pred < 0.5).sum() / y_pred.shape[0]\n",
    "    return positive_rate, nagative_rate"
   ]
  },
  {
   "cell_type": "code",
   "execution_count": 14,
   "metadata": {},
   "outputs": [
    {
     "name": "stdout",
     "output_type": "stream",
     "text": [
      "Downloading Youtube comments for video: OscqgBj1HCw\n",
      "Downloaded 200 comment(s)\n",
      "[6.96 seconds] Done!\n"
     ]
    },
    {
     "name": "stderr",
     "output_type": "stream",
     "text": [
      "C:\\Users\\USER\\anaconda3\\lib\\site-packages\\pandas\\core\\indexing.py:671: SettingWithCopyWarning: \n",
      "A value is trying to be set on a copy of a slice from a DataFrame\n",
      "\n",
      "See the caveats in the documentation: https://pandas.pydata.org/pandas-docs/stable/user_guide/indexing.html#returning-a-view-versus-a-copy\n",
      "  self._setitem_with_indexer(indexer, value)\n"
     ]
    },
    {
     "data": {
      "text/plain": [
       "(0.795, 0.205)"
      ]
     },
     "execution_count": 14,
     "metadata": {},
     "output_type": "execute_result"
    }
   ],
   "source": [
    "youtubeID = 'OscqgBj1HCw'\n",
    "predict_result(youtubeID)"
   ]
  },
  {
   "cell_type": "markdown",
   "metadata": {
    "id": "tdivyjwNlQ8Z"
   },
   "source": [
    "## Evaluating the performance of choosen model\n",
    "### Load Testing Dataset"
   ]
  },
  {
   "cell_type": "code",
   "execution_count": 15,
   "metadata": {
    "colab": {
     "base_uri": "https://localhost:8080/",
     "height": 423
    },
    "id": "-KqP_pXcXKSd",
    "outputId": "aa4a9ef6-ed62-4298-ba50-cd0371b79a23"
   },
   "outputs": [],
   "source": [
    "df_test = pd.read_csv('./output.csv')"
   ]
  },
  {
   "cell_type": "code",
   "execution_count": 22,
   "metadata": {
    "colab": {
     "base_uri": "https://localhost:8080/"
    },
    "id": "4JdJfF81b1Ga",
    "outputId": "8ff09d7e-c869-400b-d899-8aeeafe4d5a2"
   },
   "outputs": [
    {
     "name": "stdout",
     "output_type": "stream",
     "text": [
      "200\n",
      "200\n"
     ]
    }
   ],
   "source": [
    "x_test = []\n",
    "\n",
    "df_test = df_test[df_test['label'] != 0]\n",
    "df_test['label'] = df_test['label'].apply(lambda x: -1 if x < 0 else x)\n",
    "test_data = df_test['comment']\n",
    "y_test = df_test['label']\n",
    "\n",
    "embeddings_test = extract_embeddings(pretrained_path, test_data)\n",
    "for i in range(200):\n",
    "    x_test.append(embeddings_test[i][0])\n",
    "\n",
    "print(len(y_test))\n",
    "print(len(embeddings_test))"
   ]
  },
  {
   "cell_type": "code",
   "execution_count": 23,
   "metadata": {
    "colab": {
     "base_uri": "https://localhost:8080/"
    },
    "id": "LLUGsQpt1ZR_",
    "outputId": "d1b95082-cf87-4746-e5a2-cce966b7f77a"
   },
   "outputs": [
    {
     "name": "stdout",
     "output_type": "stream",
     "text": [
      "              precision    recall  f1-score   support\n",
      "\n",
      "          -1       0.58      0.46      0.52        54\n",
      "           1       0.82      0.88      0.84       146\n",
      "\n",
      "    accuracy                           0.77       200\n",
      "   macro avg       0.70      0.67      0.68       200\n",
      "weighted avg       0.75      0.77      0.76       200\n",
      "\n"
     ]
    }
   ],
   "source": [
    "from sklearn import metrics\n",
    "\n",
    "y_pred = task_model.predict(x_test)\n",
    "\n",
    "print(metrics.classification_report(y_test, y_pred))"
   ]
  },
  {
   "cell_type": "code",
   "execution_count": 19,
   "metadata": {
    "colab": {
     "base_uri": "https://localhost:8080/"
    },
    "id": "hy8ebVBy1m9R",
    "outputId": "3145f98f-d449-4a3d-e735-f8fdda98cea1"
   },
   "outputs": [
    {
     "name": "stdout",
     "output_type": "stream",
     "text": [
      "positive_rate: 0.785 , nagative_rate: 0.215\n"
     ]
    }
   ],
   "source": [
    "positive_rate = (y_pred >= 0.5).sum() / y_pred.shape[0]\n",
    "nagative_rate = (y_pred < 0.5).sum() / y_pred.shape[0]\n",
    "print('positive_rate:', positive_rate,', nagative_rate:', nagative_rate)"
   ]
  },
  {
   "cell_type": "code",
   "execution_count": 20,
   "metadata": {
    "colab": {
     "base_uri": "https://localhost:8080/"
    },
    "id": "YQrDn0PG1qy9",
    "outputId": "c34f5d5b-30f0-4324-a4a4-fbdbb8a8ee8a"
   },
   "outputs": [
    {
     "name": "stdout",
     "output_type": "stream",
     "text": [
      "roc_auc: 0.6698376458650431\n"
     ]
    }
   ],
   "source": [
    "fpr, tpr, thresholds = metrics.roc_curve(y_test, y_pred, pos_label=1)\n",
    "roc_auc = metrics.auc(fpr, tpr)\n",
    "print(\"roc_auc:\", roc_auc)"
   ]
  },
  {
   "cell_type": "code",
   "execution_count": 21,
   "metadata": {
    "colab": {
     "base_uri": "https://localhost:8080/",
     "height": 295
    },
    "id": "Oh8Wpw_V1q3B",
    "outputId": "219fbee2-2e5b-4f3a-94a5-09d1ccddf4e9"
   },
   "outputs": [
    {
     "data": {
      "image/png": "[encoded data removed]",
      "text/plain": [
       "<Figure size 432x288 with 1 Axes>"
      ]
     },
     "metadata": {
      "needs_background": "light"
     },
     "output_type": "display_data"
    }
   ],
   "source": [
    "import matplotlib.pyplot as plt\n",
    "\n",
    "plt.title('Receiver Operating Characteristic')\n",
    "plt.plot(fpr, tpr, 'b', label = 'AUC = %0.4f' % roc_auc)\n",
    "plt.legend(loc = 'lower right')\n",
    "plt.plot([0, 1], [0, 1],'r--')\n",
    "plt.xlim([0, 1])\n",
    "plt.ylim([0, 1])\n",
    "plt.ylabel('True Positive Rate')\n",
    "plt.xlabel('False Positive Rate')\n",
    "plt.show()"
   ]
  },
  {
   "cell_type": "code",
   "execution_count": null,
   "metadata": {},
   "outputs": [],
   "source": []
  }
 ],
 "metadata": {
  "accelerator": "GPU",
  "colab": {
   "collapsed_sections": [],
   "name": "youtube_project.ipynb",
   "provenance": []
  },
  "kernelspec": {
   "display_name": "Python 3",
   "language": "python",
   "name": "python3"
  },
  "language_info": {
   "codemirror_mode": {
    "name": "ipython",
    "version": 3
   },
   "file_extension": ".py",
   "mimetype": "text/x-python",
   "name": "python",
   "nbconvert_exporter": "python",
   "pygments_lexer": "ipython3",
   "version": "3.8.3"
  }
 },
 "nbformat": 4,
 "nbformat_minor": 1
}
