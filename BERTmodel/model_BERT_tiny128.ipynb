{
 "cells": [
  {
   "cell_type": "markdown",
   "metadata": {},
   "source": [
    "## Loading the IMBD movie review dataset as the training dataset"
   ]
  },
  {
   "cell_type": "code",
   "execution_count": null,
   "metadata": {
    "scrolled": true
   },
   "outputs": [],
   "source": [
    "!pip install tensorflow\n",
    "!pip install keras_bert"
   ]
  },
  {
   "cell_type": "markdown",
   "metadata": {},
   "source": [
    "### Transform into embeddings \n"
   ]
  },
  {
   "cell_type": "code",
   "execution_count": 26,
   "metadata": {},
   "outputs": [],
   "source": [
    "# y_train = []\n",
    "# x_train = []\n",
    "# embeddings = extract_embeddings(pretrained_path, train_data[0:20000])\n",
    "# for index in range(20000):\n",
    "#     x_train.append(embeddings[index][0]) \n",
    "#     y_train.append(train_label[index])\n",
    "# nowfile = open('drive/MyDrive/Sentiment/project/Dataset.txt', 'w')\n",
    "# for i in range(20000):\n",
    "#     nowfile.write(str(y_train[i]))\n",
    "#     for j in range(len(x_train[i])):\n",
    "#         nowfile.write(' ' + str(x_train[i][j]))\n",
    "#     nowfile.write('\\n')\n",
    "# nowfile.close()"
   ]
  },
  {
   "cell_type": "code",
   "execution_count": 2,
   "metadata": {},
   "outputs": [],
   "source": [
    "pretrained_path = './BERT-Tiny'\n",
    "from keras_bert import extract_embeddings"
   ]
  },
  {
   "cell_type": "markdown",
   "metadata": {},
   "source": [
    "### Loading Embeddings\n",
    "Have been saved to the Dataset.txt"
   ]
  },
  {
   "cell_type": "code",
   "execution_count": 3,
   "metadata": {},
   "outputs": [],
   "source": [
    "import numpy as np\n",
    "def read_input_data(path):\n",
    "    x = []\n",
    "    y = []\n",
    "    for line in open(path).readlines():\n",
    "        items = line.strip().split(' ')\n",
    "        tempX = []\n",
    "        for i in range(1, len(items)): tempX.append(float(items[i]))\n",
    "        x.append(tempX)\n",
    "        y.append(float(items[0]))\n",
    "    return np.array(x), np.array(y)"
   ]
  },
  {
   "cell_type": "code",
   "execution_count": 4,
   "metadata": {},
   "outputs": [
    {
     "name": "stdout",
     "output_type": "stream",
     "text": [
      "(30000, 128)\n",
      "[ 1.  1.  1. ... -1. -1.  1.]\n"
     ]
    }
   ],
   "source": [
    "#training set 30000 embeddings\n",
    "TrainingPath = \"./Dataset.txt\"\n",
    "x_train, y_train = read_input_data(TrainingPath)\n",
    "print(x_train.shape)\n",
    "print(y_train)"
   ]
  },
  {
   "cell_type": "markdown",
   "metadata": {},
   "source": [
    "## Training model\n",
    "\n",
    "### Choosing rbf kernel"
   ]
  },
  {
   "cell_type": "code",
   "execution_count": 5,
   "metadata": {},
   "outputs": [
    {
     "name": "stdout",
     "output_type": "stream",
     "text": [
      "Best score for training data: 0.77295 \n",
      "\n",
      "Best C: 19.170932541804394 \n",
      "\n",
      "Best Kernel: rbf \n",
      "\n",
      "Best Gamma: 0.0005910786143286416 \n",
      "\n"
     ]
    }
   ],
   "source": [
    "from sklearn.preprocessing import StandardScaler\n",
    "from sklearn.svm import SVC\n",
    "from sklearn.model_selection import GridSearchCV, RandomizedSearchCV\n",
    "from sklearn.utils.fixes import loguniform\n",
    "\n",
    "scaler = StandardScaler()\n",
    "X_train = scaler.fit_transform(x_train)\n",
    "\n",
    "param_dist = {'C': loguniform(1e-2, 1e2),\n",
    " 'gamma': loguniform(1e-4, 1e-3),\n",
    " 'kernel': ['rbf'],\n",
    " 'class_weight':['balanced', None]}\n",
    "\n",
    "n_iter_search = 5\n",
    "\n",
    "model = RandomizedSearchCV(SVC(), param_distributions=param_dist, n_iter=n_iter_search)\n",
    "model.fit(X_train[:20000],y_train[:20000])\n",
    "\n",
    "print('Best score for training data:', model.best_score_,\"\\n\") \n",
    "# View the best parameters for the model found using grid search\n",
    "print('Best C:',model.best_estimator_.C,\"\\n\") \n",
    "print('Best Kernel:',model.best_estimator_.kernel,\"\\n\")\n",
    "print('Best Gamma:',model.best_estimator_.gamma,\"\\n\")"
   ]
  },
  {
   "cell_type": "markdown",
   "metadata": {},
   "source": [
    "Saving trained model"
   ]
  },
  {
   "cell_type": "code",
   "execution_count": 6,
   "metadata": {},
   "outputs": [
    {
     "data": {
      "text/plain": [
       "['tiny-taskModel']"
      ]
     },
     "execution_count": 6,
     "metadata": {},
     "output_type": "execute_result"
    }
   ],
   "source": [
    "import joblib\n",
    "joblib.dump(model, 'tiny-taskModel')"
   ]
  },
  {
   "cell_type": "markdown",
   "metadata": {},
   "source": [
    "## Using the model to predict YouTube review"
   ]
  },
  {
   "cell_type": "code",
   "execution_count": 13,
   "metadata": {},
   "outputs": [],
   "source": [
    "import pandas as pd\n",
    "import numpy as np\n",
    "import sys\n",
    "sys.path.append(\"..\")\n",
    "import yt_helper"
   ]
  },
  {
   "cell_type": "code",
   "execution_count": 16,
   "metadata": {},
   "outputs": [],
   "source": [
    "import joblib\n",
    "task_model = joblib.load('tiny-taskModel')"
   ]
  },
  {
   "cell_type": "code",
   "execution_count": 17,
   "metadata": {},
   "outputs": [],
   "source": [
    "def yt_comment_preprocess(df, limit):\n",
    "    processed_dataset = yt_helper.comment.preprocessing(df=df, emoji_to_word=True) \n",
    "    test_data = processed_dataset['regular_text']\n",
    "    \n",
    "    embeddings_test = extract_embeddings(pretrained_path, test_data)\n",
    "    x_test = []\n",
    "    for i in range(limit):\n",
    "        x_test.append(embeddings_test[i][0])\n",
    "        \n",
    "    return x_test"
   ]
  },
  {
   "cell_type": "code",
   "execution_count": 18,
   "metadata": {},
   "outputs": [],
   "source": [
    "def predict_result(youtubeID):\n",
    "    SORT_BY_POPULAR = 1\n",
    "    SORT_BY_RECENT = 0\n",
    "\n",
    "    limit = 200 # set to None to download all comments\n",
    "    sort = SORT_BY_POPULAR\n",
    "    output = None  # do not write out files\n",
    "\n",
    "    df = yt_helper.comment.fetch(youtubeID=youtubeID, limit=limit,\n",
    "                                                language='en', sort=sort, output=output)\n",
    "\n",
    "    x_test = yt_comment_preprocess(df, limit)\n",
    "    y_pred = task_model.predict(x_test)\n",
    "    positive_rate = (y_pred >= 0.5).sum() / y_pred.shape[0]\n",
    "    nagative_rate = (y_pred < 0.5).sum() / y_pred.shape[0]\n",
    "    return positive_rate, nagative_rate"
   ]
  },
  {
   "cell_type": "code",
   "execution_count": 20,
   "metadata": {},
   "outputs": [
    {
     "name": "stdout",
     "output_type": "stream",
     "text": [
      "Downloading Youtube comments for video: OscqgBj1HCw\n",
      "Downloaded 200 comment(s)\n",
      "[9.02 seconds] Done!\n"
     ]
    },
    {
     "name": "stderr",
     "output_type": "stream",
     "text": [
      "C:\\Users\\USER\\anaconda3\\lib\\site-packages\\pandas\\core\\indexing.py:671: SettingWithCopyWarning: \n",
      "A value is trying to be set on a copy of a slice from a DataFrame\n",
      "\n",
      "See the caveats in the documentation: https://pandas.pydata.org/pandas-docs/stable/user_guide/indexing.html#returning-a-view-versus-a-copy\n",
      "  self._setitem_with_indexer(indexer, value)\n"
     ]
    },
    {
     "data": {
      "text/plain": [
       "(0.195, 0.805)"
      ]
     },
     "execution_count": 20,
     "metadata": {},
     "output_type": "execute_result"
    }
   ],
   "source": [
    "youtubeID = 'OscqgBj1HCw'\n",
    "predict_result(youtubeID)"
   ]
  },
  {
   "cell_type": "markdown",
   "metadata": {},
   "source": [
    "## Evaluating the performance of choosen model"
   ]
  },
  {
   "cell_type": "code",
   "execution_count": 21,
   "metadata": {},
   "outputs": [],
   "source": [
    "import pandas as pd\n",
    "df_test = pd.read_csv('output.csv')\n",
    "df_test = df_test[df_test['label'] != 0]\n",
    "df_test['label'] = df_test['label'].apply(lambda x: -1 if x < 0 else x)\n",
    "\n",
    "test_data = df_test['comment']\n",
    "y_test = df_test['label']"
   ]
  },
  {
   "cell_type": "code",
   "execution_count": 22,
   "metadata": {},
   "outputs": [
    {
     "name": "stdout",
     "output_type": "stream",
     "text": [
      "200\n",
      "200\n"
     ]
    }
   ],
   "source": [
    "embeddings_test = extract_embeddings(pretrained_path, test_data)\n",
    "\n",
    "x_test = []\n",
    "for i in range(len(y_test)):\n",
    "    x_test.append(embeddings_test[i][0])\n",
    "\n",
    "print(len(x_test))\n",
    "print(len(embeddings_test))"
   ]
  },
  {
   "cell_type": "code",
   "execution_count": 11,
   "metadata": {},
   "outputs": [
    {
     "name": "stdout",
     "output_type": "stream",
     "text": [
      "              precision    recall  f1-score   support\n",
      "\n",
      "          -1       0.47      0.44      0.46        54\n",
      "           1       0.80      0.82      0.81       146\n",
      "\n",
      "    accuracy                           0.71       200\n",
      "   macro avg       0.63      0.63      0.63       200\n",
      "weighted avg       0.71      0.71      0.71       200\n",
      "\n"
     ]
    }
   ],
   "source": [
    "from sklearn import metrics\n",
    "import joblib\n",
    "loaded_model = joblib.load('tiny-taskModel')\n",
    "\n",
    "X_test = scaler.transform(x_test)\n",
    "X_test = np.array(X_test)\n",
    "y_pred = loaded_model.predict(X_test)\n",
    "\n",
    "print(metrics.classification_report(y_test, y_pred))"
   ]
  },
  {
   "cell_type": "code",
   "execution_count": 23,
   "metadata": {},
   "outputs": [
    {
     "name": "stdout",
     "output_type": "stream",
     "text": [
      "positive_rate: 0.745 , nagative_rate: 0.255\n"
     ]
    }
   ],
   "source": [
    "positive_rate = (y_pred >= 0.5).sum() / y_pred.shape[0]\n",
    "nagative_rate = (y_pred < 0.5).sum() / y_pred.shape[0]\n",
    "print('positive_rate:', positive_rate,', nagative_rate:', nagative_rate)"
   ]
  },
  {
   "cell_type": "code",
   "execution_count": 24,
   "metadata": {},
   "outputs": [
    {
     "name": "stdout",
     "output_type": "stream",
     "text": [
      "roc_auc: 0.6297564687975648\n"
     ]
    }
   ],
   "source": [
    "fpr, tpr, thresholds = metrics.roc_curve(y_test, y_pred, pos_label=1)\n",
    "roc_auc = metrics.auc(fpr, tpr)\n",
    "print(\"roc_auc:\", roc_auc)"
   ]
  },
  {
   "cell_type": "code",
   "execution_count": 25,
   "metadata": {},
   "outputs": [
    {
     "data": {
      "image/png": "[encoded data removed]",
      "text/plain": [
       "<Figure size 432x288 with 1 Axes>"
      ]
     },
     "metadata": {
      "needs_background": "light"
     },
     "output_type": "display_data"
    }
   ],
   "source": [
    "import matplotlib.pyplot as plt\n",
    "\n",
    "plt.title('Receiver Operating Characteristic')\n",
    "plt.plot(fpr, tpr, 'b', label = 'AUC = %0.4f' % roc_auc)\n",
    "plt.legend(loc = 'lower right')\n",
    "plt.plot([0, 1], [0, 1],'r--')\n",
    "plt.xlim([0, 1])\n",
    "plt.ylim([0, 1])\n",
    "plt.ylabel('True Positive Rate')\n",
    "plt.xlabel('False Positive Rate')\n",
    "plt.show()"
   ]
  },
  {
   "cell_type": "code",
   "execution_count": null,
   "metadata": {},
   "outputs": [],
   "source": []
  }
 ],
 "metadata": {
  "kernelspec": {
   "display_name": "Python 3",
   "language": "python",
   "name": "python3"
  },
  "language_info": {
   "codemirror_mode": {
    "name": "ipython",
    "version": 3
   },
   "file_extension": ".py",
   "mimetype": "text/x-python",
   "name": "python",
   "nbconvert_exporter": "python",
   "pygments_lexer": "ipython3",
   "version": "3.8.3"
  }
 },
 "nbformat": 4,
 "nbformat_minor": 4
}
