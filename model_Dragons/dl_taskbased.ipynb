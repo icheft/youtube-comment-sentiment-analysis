{
 "cells": [
  {
   "cell_type": "markdown",
   "metadata": {},
   "source": [
    "# 一、使用IMDB資料集訓練模型"
   ]
  },
  {
   "cell_type": "code",
   "execution_count": 1,
   "metadata": {},
   "outputs": [],
   "source": [
    "from keras.datasets import imdb\n",
    "from keras import preprocessing\n",
    "\n",
    "max_unique_tokens = 20000 # 取前20000個字來建立特徵維度\n",
    "max_DocLen = 200 # 限定文件長度度為前200字\n",
    "\n",
    "(train_data, train_labels), (test_data, test_labels) = imdb.load_data(num_words= max_unique_tokens)"
   ]
  },
  {
   "cell_type": "code",
   "execution_count": 2,
   "metadata": {},
   "outputs": [],
   "source": [
    "train_data = preprocessing.sequence.pad_sequences(train_data, maxlen=max_DocLen, truncating='post', padding='post')\n",
    "test_data = preprocessing.sequence.pad_sequences(test_data, maxlen=max_DocLen, truncating='post', padding='post')\n",
    "# print(train_data.shape)\n",
    "# print(test_data.shape)"
   ]
  },
  {
   "cell_type": "code",
   "execution_count": 3,
   "metadata": {},
   "outputs": [
    {
     "name": "stdout",
     "output_type": "stream",
     "text": [
      "Model: \"sequential\"\n",
      "_________________________________________________________________\n",
      " Layer (type)                Output Shape              Param #   \n",
      "=================================================================\n",
      " embedding (Embedding)       (None, 200, 300)          6000000   \n",
      "                                                                 \n",
      " flatten (Flatten)           (None, 60000)             0         \n",
      "                                                                 \n",
      " dense (Dense)               (None, 16)                960016    \n",
      "                                                                 \n",
      " dense_1 (Dense)             (None, 1)                 17        \n",
      "                                                                 \n",
      "=================================================================\n",
      "Total params: 6,960,033\n",
      "Trainable params: 6,960,033\n",
      "Non-trainable params: 0\n",
      "_________________________________________________________________\n"
     ]
    },
    {
     "name": "stderr",
     "output_type": "stream",
     "text": [
      "2022-01-10 16:02:47.382604: I tensorflow/core/platform/cpu_feature_guard.cc:151] This TensorFlow binary is optimized with oneAPI Deep Neural Network Library (oneDNN) to use the following CPU instructions in performance-critical operations:  AVX2 FMA\n",
      "To enable them in other operations, rebuild TensorFlow with the appropriate compiler flags.\n"
     ]
    }
   ],
   "source": [
    "from keras.models import Sequential\n",
    "from keras.layers import Flatten, Dense, Embedding\n",
    "\n",
    "model = Sequential()\n",
    "model.add(Embedding(max_unique_tokens, 300, input_length=max_DocLen))\n",
    "model.add(Flatten())\n",
    "model.add(Dense(16, activation = 'relu'))\n",
    "model.add(Dense(1, activation='sigmoid'))\n",
    "\n",
    "# model.layers[0].set_weights([w2v_embedding_matrix])\n",
    "# model.layers[0].trainable = False\n",
    "\n",
    "model.compile(optimizer='rmsprop', loss='binary_crossentropy', metrics=['acc'])\n",
    "\n",
    "\n",
    "model.summary()"
   ]
  },
  {
   "cell_type": "code",
   "execution_count": 4,
   "metadata": {},
   "outputs": [
    {
     "name": "stdout",
     "output_type": "stream",
     "text": [
      "Epoch 1/4\n",
      "49/49 [==============================] - 8s 154ms/step - loss: 0.5730 - acc: 0.6794\n",
      "Epoch 2/4\n",
      "49/49 [==============================] - 8s 157ms/step - loss: 0.2358 - acc: 0.9087\n",
      "Epoch 3/4\n",
      "49/49 [==============================] - 7s 152ms/step - loss: 0.0806 - acc: 0.9774\n",
      "Epoch 4/4\n",
      "49/49 [==============================] - 7s 150ms/step - loss: 0.0225 - acc: 0.9956\n"
     ]
    }
   ],
   "source": [
    "history = model.fit(train_data, train_labels,\n",
    "                   epochs=4,\n",
    "                   batch_size = 512)"
   ]
  },
  {
   "cell_type": "code",
   "execution_count": 5,
   "metadata": {},
   "outputs": [
    {
     "name": "stdout",
     "output_type": "stream",
     "text": [
      "782/782 [==============================] - 2s 2ms/step - loss: 0.4405 - acc: 0.8349\n"
     ]
    }
   ],
   "source": [
    "testing_result = model.evaluate(test_data, test_labels)"
   ]
  },
  {
   "cell_type": "code",
   "execution_count": 6,
   "metadata": {},
   "outputs": [],
   "source": [
    "# model.save('taskBasedModel')"
   ]
  },
  {
   "cell_type": "markdown",
   "metadata": {},
   "source": [
    "# 二、將訓練好的模型用在YouTube任務"
   ]
  },
  {
   "cell_type": "code",
   "execution_count": 1,
   "metadata": {},
   "outputs": [],
   "source": [
    "import pandas as pd\n",
    "import numpy as np\n",
    "from tensorflow import keras\n",
    "from keras.datasets import imdb\n",
    "from keras import preprocessing"
   ]
  },
  {
   "cell_type": "code",
   "execution_count": 2,
   "metadata": {},
   "outputs": [],
   "source": [
    "import sys\n",
    "sys.path.append(\"..\")\n",
    "import yt_helper"
   ]
  },
  {
   "cell_type": "code",
   "execution_count": 3,
   "metadata": {},
   "outputs": [
    {
     "name": "stderr",
     "output_type": "stream",
     "text": [
      "2022-01-10 16:07:37.573408: I tensorflow/core/platform/cpu_feature_guard.cc:151] This TensorFlow binary is optimized with oneAPI Deep Neural Network Library (oneDNN) to use the following CPU instructions in performance-critical operations:  AVX2 FMA\n",
      "To enable them in other operations, rebuild TensorFlow with the appropriate compiler flags.\n"
     ]
    }
   ],
   "source": [
    "max_unique_tokens = 20000 # 取前20000個字來建立特徵維度\n",
    "max_DocLen = 200 # 限定文件長度度為前200字\n",
    "model = keras.models.load_model('taskBasedModel')"
   ]
  },
  {
   "cell_type": "code",
   "execution_count": 4,
   "metadata": {},
   "outputs": [],
   "source": [
    "def yt_comment_preprocess(df):\n",
    "    processed_dataset = yt_helper.comment.preprocessing(df=df, emoji_to_word=True) \n",
    "    yt_data = processed_dataset[\"comment\"].tolist()\n",
    "    yt_data = [x.split() for x in yt_data]\n",
    "    word_index = imdb.get_word_index()\n",
    "    test_data2 = []\n",
    "    for comment in yt_data:\n",
    "        temp = []\n",
    "        for word in comment:\n",
    "            try:\n",
    "                if word_index[word.lower()] < max_unique_tokens:\n",
    "                    temp.append(word_index[word.lower()])\n",
    "            except:\n",
    "                pass\n",
    "        test_data2.append(temp) \n",
    "    test_data2 = preprocessing.sequence.pad_sequences(test_data2, maxlen=max_DocLen, truncating='post', padding='post')\n",
    "    return test_data2"
   ]
  },
  {
   "cell_type": "markdown",
   "metadata": {},
   "source": [
    "## Task1: 評估模型表現(labeled by Brain)"
   ]
  },
  {
   "cell_type": "code",
   "execution_count": 11,
   "metadata": {},
   "outputs": [],
   "source": [
    "df = pd.read_csv(\"./output.csv\")\n",
    "df = df[df[\"label\"] != 0]\n",
    "df[\"label\"] = df[\"label\"].apply(lambda x: 0 if x < 0 else x)"
   ]
  },
  {
   "cell_type": "code",
   "execution_count": 12,
   "metadata": {},
   "outputs": [
    {
     "name": "stderr",
     "output_type": "stream",
     "text": [
      "/Users/laiqunlong/.local/share/virtualenvs/youtube-comment-sentiment-analysis-ZOySsaHU/lib/python3.9/site-packages/pandas/core/indexing.py:1732: SettingWithCopyWarning: \n",
      "A value is trying to be set on a copy of a slice from a DataFrame\n",
      "\n",
      "See the caveats in the documentation: https://pandas.pydata.org/pandas-docs/stable/user_guide/indexing.html#returning-a-view-versus-a-copy\n",
      "  self._setitem_single_block(indexer, value, name)\n"
     ]
    },
    {
     "name": "stdout",
     "output_type": "stream",
     "text": [
      "(200, 200)\n"
     ]
    }
   ],
   "source": [
    "test_data2 = yt_comment_preprocess(df)\n",
    "print(test_data2.shape)"
   ]
  },
  {
   "cell_type": "code",
   "execution_count": 13,
   "metadata": {},
   "outputs": [
    {
     "name": "stdout",
     "output_type": "stream",
     "text": [
      "0.865 0.135\n"
     ]
    }
   ],
   "source": [
    "result = model.predict(test_data2)\n",
    "positive_rate = (result >= 0.5).sum() / result.shape[0]\n",
    "nagative_rate = (result < 0.5).sum() / result.shape[0]\n",
    "print(positive_rate, nagative_rate)"
   ]
  },
  {
   "cell_type": "code",
   "execution_count": 14,
   "metadata": {},
   "outputs": [
    {
     "name": "stdout",
     "output_type": "stream",
     "text": [
      "7/7 [==============================] - 0s 2ms/step - loss: 0.6454 - acc: 0.6750\n"
     ]
    },
    {
     "data": {
      "text/plain": [
       "[0.6454260349273682, 0.675000011920929]"
      ]
     },
     "execution_count": 14,
     "metadata": {},
     "output_type": "execute_result"
    }
   ],
   "source": [
    "model.evaluate(test_data2, np.array(df[\"label\"]))"
   ]
  },
  {
   "cell_type": "code",
   "execution_count": 15,
   "metadata": {},
   "outputs": [
    {
     "name": "stdout",
     "output_type": "stream",
     "text": [
      "roc_auc: 0.5322171486555048\n"
     ]
    }
   ],
   "source": [
    "from sklearn import metrics\n",
    "predict_result = model.predict(test_data2).reshape(-1)\n",
    "ground_truth = np.array(df[\"label\"])\n",
    "\n",
    "fpr, tpr, thresholds = metrics.roc_curve(ground_truth, predict_result, pos_label=1)\n",
    "roc_auc = metrics.auc(fpr, tpr)\n",
    "print(\"roc_auc:\", roc_auc)"
   ]
  },
  {
   "cell_type": "code",
   "execution_count": 16,
   "metadata": {},
   "outputs": [
    {
     "data": {
      "image/png": "[encoded data removed]",
      "text/plain": [
       "<Figure size 432x288 with 1 Axes>"
      ]
     },
     "metadata": {
      "needs_background": "light"
     },
     "output_type": "display_data"
    }
   ],
   "source": [
    "import matplotlib.pyplot as plt\n",
    "plt.title('Receiver Operating Characteristic')\n",
    "plt.plot(fpr, tpr, 'b', label = 'AUC = %0.2f' % roc_auc)\n",
    "plt.legend(loc = 'lower right')\n",
    "plt.plot([0, 1], [0, 1],'r--')\n",
    "plt.xlim([0, 1])\n",
    "plt.ylim([0, 1])\n",
    "plt.ylabel('True Positive Rate')\n",
    "plt.xlabel('False Positive Rate')\n",
    "plt.show()"
   ]
  },
  {
   "cell_type": "code",
   "execution_count": 17,
   "metadata": {},
   "outputs": [
    {
     "data": {
      "text/plain": [
       "array([[  8,  46],\n",
       "       [ 19, 127]])"
      ]
     },
     "execution_count": 17,
     "metadata": {},
     "output_type": "execute_result"
    }
   ],
   "source": [
    "from sklearn.metrics import confusion_matrix\n",
    "predict_result[predict_result >= 0.5] = 1\n",
    "predict_result[predict_result < 0.5] = 0\n",
    "confusion_matrix(ground_truth, predict_result)"
   ]
  },
  {
   "cell_type": "markdown",
   "metadata": {},
   "source": [
    "## Task2: 預測新進資料(backend service)"
   ]
  },
  {
   "cell_type": "code",
   "execution_count": 9,
   "metadata": {},
   "outputs": [],
   "source": [
    "def dl_taskbased(youtubeID):\n",
    "    SORT_BY_POPULAR = 1\n",
    "    SORT_BY_RECENT = 0\n",
    "\n",
    "\n",
    "    limit = 100 # set to None to download all comments\n",
    "    sort = SORT_BY_POPULAR\n",
    "    output = None  # do not write out files\n",
    "\n",
    "    df = yt_helper.comment.fetch(youtubeID=youtubeID, limit=limit,\n",
    "                                                language='en', sort=sort, output=output)\n",
    "#     display(df.head())\n",
    "    test_data2 = yt_comment_preprocess(df)\n",
    "#     print(test_data2.shape)\n",
    "    result = model.predict(test_data2)\n",
    "    positive_rate = (result >= 0.5).sum() / result.shape[0]\n",
    "    nagative_rate = (result < 0.5).sum() / result.shape[0]\n",
    "    return positive_rate, nagative_rate"
   ]
  },
  {
   "cell_type": "code",
   "execution_count": 10,
   "metadata": {},
   "outputs": [
    {
     "name": "stdout",
     "output_type": "stream",
     "text": [
      "Downloading Youtube comments for video: OscqgBj1HCw\n",
      "Downloaded 100 comment(s)\n",
      "[4.73 seconds] Done!\n"
     ]
    },
    {
     "data": {
      "text/plain": [
       "(0.92, 0.08)"
      ]
     },
     "execution_count": 10,
     "metadata": {},
     "output_type": "execute_result"
    }
   ],
   "source": [
    "youtubeID = 'OscqgBj1HCw'\n",
    "dl_taskbased(youtubeID)"
   ]
  }
 ],
 "metadata": {
  "kernelspec": {
   "display_name": "youtube-comment-sentiment-analysis",
   "language": "python",
   "name": "youtube-comment-sentiment-analysis"
  },
  "language_info": {
   "codemirror_mode": {
    "name": "ipython",
    "version": 3
   },
   "file_extension": ".py",
   "mimetype": "text/x-python",
   "name": "python",
   "nbconvert_exporter": "python",
   "pygments_lexer": "ipython3",
   "version": "3.9.7"
  }
 },
 "nbformat": 4,
 "nbformat_minor": 4
}
